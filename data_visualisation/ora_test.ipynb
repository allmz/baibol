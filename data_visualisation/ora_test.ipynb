{
 "cells": [
  {
   "cell_type": "code",
   "execution_count": 154,
   "metadata": {},
   "outputs": [],
   "source": [
    "import pandas as pd\n",
    "\n",
    "df = pd.read_csv(\"datasets/ora_test.csv\")\n",
    "# budget_categories = [\n",
    "#     \"Housing\",\n",
    "#     \"Transportation\",\n",
    "#     \"Food\",\n",
    "#     \"Utilities\",\n",
    "#     \"Clothing\",\n",
    "#     \"Medical/Healthcare\",\n",
    "#     \"Insurance\",\n",
    "#     \"Household Items/Supplies\",\n",
    "#     \"Personal\",\n",
    "#     \"Debt\",\n",
    "#     \"Retirement\",\n",
    "#     \"Education\",\n",
    "#     \"Savings\",\n",
    "#     \"Gifts/Donations\",\n",
    "#     \"Entertainment\"\n",
    "# ]\n",
    "# transactions = [\n",
    "#     \"Transfers\",\n",
    "#     \"Replenishment\",\n",
    "#     \"Purchases\",\n",
    "#     \"Others\",    \n",
    "# ]\n",
    "init_balance = 572.81\n",
    "df['date'] = pd.to_datetime(df['date'], format='%d.%m.%y')\n",
    "df = df.iloc[::-1]\n",
    "deposit = 0\n",
    "income = 0\n",
    "expenditures = 0\n",
    "balance_trend = []\n",
    "expenditures_trend = []\n",
    "income_trend = []\n",
    "dates = []\n",
    "\n",
    "for row in df.iterrows():\n",
    "    init_balance += row[1]['amount']\n",
    "    if row[1]['details'] == 'To Kaspi Deposit':\n",
    "        deposit += row[1]['amount']\n",
    "    elif row[1]['details'] == 'From Kaspi Deposit':\n",
    "        deposit -= row[1]['amount']\n",
    "    elif row[1]['amount'] > 0:\n",
    "        income += row[1]['amount']\n",
    "    elif row[1]['amount'] < 0:\n",
    "        expenditures -= row[1]['amount']\n",
    "    income_trend += [income]\n",
    "    expenditures_trend += [expenditures]\n",
    "    if init_balance < 0:\n",
    "        print(row)\n",
    "        print(init_balance)\n",
    "    balance_trend += [init_balance]\n",
    "    dates += [row[1]['date']]\n",
    "df_current = pd.DataFrame({'current_balance' : balance_trend, 'dates' : dates, 'income_trend' : income_trend, 'expenditures_trend' : expenditures_trend})\n",
    "plot = df_current.plot(x='dates', kind='line')\n",
    "fig = plot.get_figure()\n",
    "fig.savefig(\"outputs/line-graph.png\")"
   ]
  },
  {
   "cell_type": "code",
   "execution_count": 166,
   "metadata": {},
   "outputs": [
    {
     "name": "stdout",
     "output_type": "stream",
     "text": [
      "-379840.0\n",
      "302695.0\n",
      "346310.64\n"
     ]
    }
   ],
   "source": [
    "print(deposit)\n",
    "print(income)\n",
    "print(expenditures)"
   ]
  }
 ],
 "metadata": {
  "kernelspec": {
   "display_name": "Python 3",
   "language": "python",
   "name": "python3"
  },
  "language_info": {
   "codemirror_mode": {
    "name": "ipython",
    "version": 3
   },
   "file_extension": ".py",
   "mimetype": "text/x-python",
   "name": "python",
   "nbconvert_exporter": "python",
   "pygments_lexer": "ipython3",
   "version": "3.11.4"
  }
 },
 "nbformat": 4,
 "nbformat_minor": 2
}
